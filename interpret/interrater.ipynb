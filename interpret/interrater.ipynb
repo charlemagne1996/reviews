{
 "cells": [
  {
   "cell_type": "markdown",
   "metadata": {},
   "source": [
    "# Interrater agreement on BPO reviews\n"
   ]
  },
  {
   "cell_type": "code",
   "execution_count": 11,
   "metadata": {},
   "outputs": [],
   "source": [
    "import pandas as pd\n",
    "import numpy as np\n",
    "from matplotlib import pyplot as plt\n",
    "%matplotlib inline\n",
    "from scipy.stats import pearsonr"
   ]
  },
  {
   "cell_type": "code",
   "execution_count": 3,
   "metadata": {},
   "outputs": [],
   "source": [
    "j0 = pd.read_csv('../bpo/meta/processedmeta/jessicareviewmeta0to100.tsv', sep = '\\t', index_col = 'seq')\n"
   ]
  },
  {
   "cell_type": "code",
   "execution_count": 4,
   "metadata": {},
   "outputs": [
    {
     "data": {
      "text/html": [
       "<div>\n",
       "<style scoped>\n",
       "    .dataframe tbody tr th:only-of-type {\n",
       "        vertical-align: middle;\n",
       "    }\n",
       "\n",
       "    .dataframe tbody tr th {\n",
       "        vertical-align: top;\n",
       "    }\n",
       "\n",
       "    .dataframe thead th {\n",
       "        text-align: right;\n",
       "    }\n",
       "</style>\n",
       "<table border=\"1\" class=\"dataframe\">\n",
       "  <thead>\n",
       "    <tr style=\"text-align: right;\">\n",
       "      <th></th>\n",
       "      <th>PubYear</th>\n",
       "      <th>RecordID</th>\n",
       "      <th>RecordTitle</th>\n",
       "      <th>Title</th>\n",
       "      <th>bookauthor</th>\n",
       "      <th>bookdate</th>\n",
       "      <th>booktitle</th>\n",
       "      <th>isfiction</th>\n",
       "      <th>howpositive</th>\n",
       "      <th>genresnamed</th>\n",
       "      <th>comments</th>\n",
       "    </tr>\n",
       "    <tr>\n",
       "      <th>seq</th>\n",
       "      <th></th>\n",
       "      <th></th>\n",
       "      <th></th>\n",
       "      <th></th>\n",
       "      <th></th>\n",
       "      <th></th>\n",
       "      <th></th>\n",
       "      <th></th>\n",
       "      <th></th>\n",
       "      <th></th>\n",
       "      <th></th>\n",
       "    </tr>\n",
       "  </thead>\n",
       "  <tbody>\n",
       "    <tr>\n",
       "      <th>0-0</th>\n",
       "      <td>1875.0</td>\n",
       "      <td>8705503</td>\n",
       "      <td>John Holdsworth, Chief Mate.</td>\n",
       "      <td>The Athenaeum</td>\n",
       "      <td>Russell, William Clark</td>\n",
       "      <td>1880.0</td>\n",
       "      <td>John Holdsworth, chief mate</td>\n",
       "      <td>y</td>\n",
       "      <td>4.0</td>\n",
       "      <td>NaN</td>\n",
       "      <td>NaN</td>\n",
       "    </tr>\n",
       "    <tr>\n",
       "      <th>0-1</th>\n",
       "      <td>1875.0</td>\n",
       "      <td>8705503</td>\n",
       "      <td>NaN</td>\n",
       "      <td>NaN</td>\n",
       "      <td>Cunninghame, Richard</td>\n",
       "      <td>NaN</td>\n",
       "      <td>In Bonds, but Fetterless</td>\n",
       "      <td>y</td>\n",
       "      <td>2.0</td>\n",
       "      <td>NaN</td>\n",
       "      <td>NaN</td>\n",
       "    </tr>\n",
       "    <tr>\n",
       "      <th>0-2</th>\n",
       "      <td>1875.0</td>\n",
       "      <td>8705503</td>\n",
       "      <td>NaN</td>\n",
       "      <td>NaN</td>\n",
       "      <td>Clarke, Marcus Andrew Hislop</td>\n",
       "      <td>NaN</td>\n",
       "      <td>For the Term of his Natural Life</td>\n",
       "      <td>y</td>\n",
       "      <td>3.0</td>\n",
       "      <td>NaN</td>\n",
       "      <td>NaN</td>\n",
       "    </tr>\n",
       "    <tr>\n",
       "      <th>1</th>\n",
       "      <td>1807.0</td>\n",
       "      <td>4962734</td>\n",
       "      <td>The Mountain Bard; Consisting of Ballads and s...</td>\n",
       "      <td>Cabinet, or, monthly report of polite literatu...</td>\n",
       "      <td>Hogg, James</td>\n",
       "      <td>1821.0</td>\n",
       "      <td>The mountain bard ; consisisting of legendary ...</td>\n",
       "      <td>n</td>\n",
       "      <td>NaN</td>\n",
       "      <td>NaN</td>\n",
       "      <td>NaN</td>\n",
       "    </tr>\n",
       "    <tr>\n",
       "      <th>2</th>\n",
       "      <td>1892.0</td>\n",
       "      <td>6018300</td>\n",
       "      <td>Book review</td>\n",
       "      <td>Novel review</td>\n",
       "      <td>NaN</td>\n",
       "      <td>NaN</td>\n",
       "      <td>NaN</td>\n",
       "      <td>n</td>\n",
       "      <td>NaN</td>\n",
       "      <td>NaN</td>\n",
       "      <td>NaN</td>\n",
       "    </tr>\n",
       "  </tbody>\n",
       "</table>\n",
       "</div>"
      ],
      "text/plain": [
       "     PubYear  RecordID                                        RecordTitle  \\\n",
       "seq                                                                         \n",
       "0-0   1875.0   8705503                       John Holdsworth, Chief Mate.   \n",
       "0-1   1875.0   8705503                                                NaN   \n",
       "0-2   1875.0   8705503                                                NaN   \n",
       "1     1807.0   4962734  The Mountain Bard; Consisting of Ballads and s...   \n",
       "2     1892.0   6018300                                        Book review   \n",
       "\n",
       "                                                 Title  \\\n",
       "seq                                                      \n",
       "0-0                                      The Athenaeum   \n",
       "0-1                                                NaN   \n",
       "0-2                                                NaN   \n",
       "1    Cabinet, or, monthly report of polite literatu...   \n",
       "2                                         Novel review   \n",
       "\n",
       "                       bookauthor  bookdate  \\\n",
       "seq                                           \n",
       "0-0        Russell, William Clark    1880.0   \n",
       "0-1          Cunninghame, Richard       NaN   \n",
       "0-2  Clarke, Marcus Andrew Hislop       NaN   \n",
       "1                     Hogg, James    1821.0   \n",
       "2                             NaN       NaN   \n",
       "\n",
       "                                             booktitle isfiction  howpositive  \\\n",
       "seq                                                                             \n",
       "0-0                        John Holdsworth, chief mate         y          4.0   \n",
       "0-1                           In Bonds, but Fetterless         y          2.0   \n",
       "0-2                   For the Term of his Natural Life         y          3.0   \n",
       "1    The mountain bard ; consisisting of legendary ...         n          NaN   \n",
       "2                                                  NaN         n          NaN   \n",
       "\n",
       "    genresnamed  comments  \n",
       "seq                        \n",
       "0-0         NaN       NaN  \n",
       "0-1         NaN       NaN  \n",
       "0-2         NaN       NaN  \n",
       "1           NaN       NaN  \n",
       "2           NaN       NaN  "
      ]
     },
     "execution_count": 4,
     "metadata": {},
     "output_type": "execute_result"
    }
   ],
   "source": [
    "j0.head()"
   ]
  },
  {
   "cell_type": "code",
   "execution_count": 5,
   "metadata": {},
   "outputs": [],
   "source": [
    "t0 = pd.read_csv('../bpo/meta/processedmeta/tedreviewmeta0to100.tsv', sep = '\\t', index_col = 'seq')"
   ]
  },
  {
   "cell_type": "code",
   "execution_count": 47,
   "metadata": {},
   "outputs": [
    {
     "name": "stdout",
     "output_type": "stream",
     "text": [
      "47\n",
      "93\n",
      "99\n"
     ]
    }
   ],
   "source": [
    "nonexistent = 0\n",
    "matchfic = 0\n",
    "notmatchfic = 0\n",
    "tedpos = []\n",
    "jesspos = []\n",
    "notmatchers = []\n",
    "\n",
    "def getrows(ted, jess, nonexistent, matchfic, notmatchfic, tedpos, jesspos, startat):\n",
    "    global notmatchers\n",
    "    \n",
    "    for idx, row in ted.iterrows():\n",
    "        firstpart = int(idx.split('-')[0])\n",
    "        if firstpart < startat:\n",
    "            continue\n",
    "        elif pd.isnull(row.isfiction):\n",
    "            continue\n",
    "            \n",
    "        if idx not in jess.index:\n",
    "            nonexistent += 1\n",
    "            print(idx)\n",
    "            continue\n",
    "\n",
    "        if row.isfiction == jess.loc[idx, 'isfiction'] or pd.isnull(jess.loc[idx, 'isfiction']):\n",
    "            matchfic += 1\n",
    "        else:\n",
    "            notmatchfic += 1\n",
    "            notmatchers.append(idx)\n",
    "\n",
    "        if row.isfiction == 'y' and jess.loc[idx, 'isfiction'] == 'y':\n",
    "            t_pos = row['howpositive']\n",
    "            j_pos = jess.loc[idx, 'howpositive']\n",
    "            if not pd.isnull(t_pos) and not pd.isnull(j_pos):\n",
    "                tedpos.append(t_pos)\n",
    "                jesspos.append(j_pos)\n",
    "\n",
    "    return nonexistent, matchfic, notmatchfic, tedpos, jesspos\n",
    "\n",
    "\n",
    "nonexistent, matchfic, notmatchfic, tedpos, jesspos = getrows(t0, j0, nonexistent, matchfic, notmatchfic, tedpos, jesspos, 40)"
   ]
  },
  {
   "cell_type": "code",
   "execution_count": 29,
   "metadata": {},
   "outputs": [
    {
     "data": {
      "text/plain": [
       "3"
      ]
     },
     "execution_count": 29,
     "metadata": {},
     "output_type": "execute_result"
    }
   ],
   "source": [
    "nonexistent\n"
   ]
  },
  {
   "cell_type": "code",
   "execution_count": 30,
   "metadata": {},
   "outputs": [
    {
     "data": {
      "text/plain": [
       "0.7758620689655172"
      ]
     },
     "execution_count": 30,
     "metadata": {},
     "output_type": "execute_result"
    }
   ],
   "source": [
    "matchfic / (matchfic + notmatchfic)"
   ]
  },
  {
   "cell_type": "code",
   "execution_count": 22,
   "metadata": {},
   "outputs": [
    {
     "data": {
      "text/plain": [
       "25"
      ]
     },
     "execution_count": 22,
     "metadata": {},
     "output_type": "execute_result"
    }
   ],
   "source": [
    "len(tedpos)"
   ]
  },
  {
   "cell_type": "code",
   "execution_count": 23,
   "metadata": {},
   "outputs": [
    {
     "data": {
      "text/plain": [
       "(0.82791361890696946, 3.2680215684964559e-07)"
      ]
     },
     "execution_count": 23,
     "metadata": {},
     "output_type": "execute_result"
    }
   ],
   "source": [
    "pearsonr(tedpos, jesspos)"
   ]
  },
  {
   "cell_type": "code",
   "execution_count": 31,
   "metadata": {},
   "outputs": [],
   "source": [
    "t1 = pd.read_csv('../bpo/meta/processedmeta/tedreviewmeta100to200.tsv', sep = '\\t', index_col = 'seq')\n",
    "j1 = pd.read_csv('../bpo/meta/processedmeta/jessicareviewmeta100to200.tsv', sep = '\\t', index_col = 'seq')"
   ]
  },
  {
   "cell_type": "code",
   "execution_count": 48,
   "metadata": {},
   "outputs": [
    {
     "name": "stdout",
     "output_type": "stream",
     "text": [
      "110\n",
      "117\n",
      "117\n"
     ]
    }
   ],
   "source": [
    "nonexistent, matchfic, notmatchfic, tedpos, jesspos = getrows(t1, j1, nonexistent, \n",
    "                                                              matchfic, notmatchfic, tedpos, jesspos, 0)"
   ]
  },
  {
   "cell_type": "code",
   "execution_count": 49,
   "metadata": {},
   "outputs": [
    {
     "data": {
      "text/plain": [
       "0.8543689320388349"
      ]
     },
     "execution_count": 49,
     "metadata": {},
     "output_type": "execute_result"
    }
   ],
   "source": [
    "matchfic / (matchfic + notmatchfic)"
   ]
  },
  {
   "cell_type": "code",
   "execution_count": 34,
   "metadata": {},
   "outputs": [
    {
     "data": {
      "text/plain": [
       "50"
      ]
     },
     "execution_count": 34,
     "metadata": {},
     "output_type": "execute_result"
    }
   ],
   "source": [
    "len(tedpos)"
   ]
  },
  {
   "cell_type": "code",
   "execution_count": 35,
   "metadata": {},
   "outputs": [
    {
     "data": {
      "text/plain": [
       "(0.77675147848166781, 3.3512051601143181e-11)"
      ]
     },
     "execution_count": 35,
     "metadata": {},
     "output_type": "execute_result"
    }
   ],
   "source": [
    "pearsonr(tedpos, jesspos)"
   ]
  },
  {
   "cell_type": "code",
   "execution_count": 38,
   "metadata": {},
   "outputs": [],
   "source": [
    "alpha = np.random.random(50) / 2 - 0.25\n",
    "beta = np.random.random(50) / 2 - 0.25"
   ]
  },
  {
   "cell_type": "code",
   "execution_count": 39,
   "metadata": {},
   "outputs": [
    {
     "data": {
      "text/plain": [
       "<matplotlib.collections.PathCollection at 0x1a2a511cc0>"
      ]
     },
     "execution_count": 39,
     "metadata": {},
     "output_type": "execute_result"
    },
    {
     "data": {
      "image/png": "[encoded data removed]",
      "text/plain": [
       "<matplotlib.figure.Figure at 0x1a1f58cf60>"
      ]
     },
     "metadata": {},
     "output_type": "display_data"
    }
   ],
   "source": [
    "plt.scatter(np.array(tedpos) + alpha, np.array(jesspos) + beta)"
   ]
  },
  {
   "cell_type": "code",
   "execution_count": 40,
   "metadata": {},
   "outputs": [
    {
     "data": {
      "text/plain": [
       "array([ 0.17162467, -0.13638423, -0.23978   , -0.09160307, -0.0146713 ,\n",
       "        0.10096783, -0.03701623, -0.16597979, -0.09683601, -0.16146517,\n",
       "        0.07996337, -0.2083406 ,  0.02661562, -0.06488378,  0.23688047,\n",
       "       -0.09047144, -0.06493214, -0.01606129, -0.22554955, -0.06399238,\n",
       "       -0.01549706, -0.15193646, -0.14678728, -0.04312094, -0.23610544,\n",
       "        0.23086109, -0.16383272,  0.14243939,  0.14847701,  0.24975938,\n",
       "        0.23260377, -0.10592887,  0.01496575,  0.19610262, -0.074698  ,\n",
       "       -0.07851086,  0.19239484, -0.03702411,  0.2083478 ,  0.05428294,\n",
       "        0.04241326, -0.09595121,  0.13378504, -0.04758086,  0.23153069,\n",
       "        0.22715315,  0.11514898,  0.24608089,  0.06195054, -0.16187689])"
      ]
     },
     "execution_count": 40,
     "metadata": {},
     "output_type": "execute_result"
    }
   ],
   "source": []
  },
  {
   "cell_type": "code",
   "execution_count": 41,
   "metadata": {},
   "outputs": [
    {
     "data": {
      "text/plain": [
       "3.2400000000000002"
      ]
     },
     "execution_count": 41,
     "metadata": {},
     "output_type": "execute_result"
    }
   ],
   "source": [
    "np.average(tedpos)"
   ]
  },
  {
   "cell_type": "code",
   "execution_count": 42,
   "metadata": {},
   "outputs": [
    {
     "data": {
      "text/plain": [
       "3.4199999999999999"
      ]
     },
     "execution_count": 42,
     "metadata": {},
     "output_type": "execute_result"
    }
   ],
   "source": [
    "np.average(jesspos)"
   ]
  },
  {
   "cell_type": "code",
   "execution_count": 46,
   "metadata": {},
   "outputs": [
    {
     "data": {
      "text/plain": [
       "['41',\n",
       " '42',\n",
       " '46',\n",
       " '50',\n",
       " '67-0',\n",
       " '67-1',\n",
       " '75',\n",
       " '77',\n",
       " '78',\n",
       " '79',\n",
       " '83',\n",
       " '91',\n",
       " '94',\n",
       " '105',\n",
       " '106',\n",
       " '111',\n",
       " '112',\n",
       " '116',\n",
       " '119',\n",
       " '121',\n",
       " '128',\n",
       " '129',\n",
       " '140',\n",
       " '141']"
      ]
     },
     "execution_count": 46,
     "metadata": {},
     "output_type": "execute_result"
    }
   ],
   "source": [
    "notmatchers"
   ]
  },
  {
   "cell_type": "code",
   "execution_count": null,
   "metadata": {},
   "outputs": [],
   "source": []
  }
 ],
 "metadata": {
  "kernelspec": {
   "display_name": "Python 3",
   "language": "python",
   "name": "python3"
  },
  "language_info": {
   "codemirror_mode": {
    "name": "ipython",
    "version": 3
   },
   "file_extension": ".py",
   "mimetype": "text/x-python",
   "name": "python",
   "nbconvert_exporter": "python",
   "pygments_lexer": "ipython3",
   "version": "3.5.2"
  }
 },
 "nbformat": 4,
 "nbformat_minor": 2
}
